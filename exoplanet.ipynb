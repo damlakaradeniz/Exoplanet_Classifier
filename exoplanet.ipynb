{
 "cells": [
  {
   "cell_type": "code",
   "execution_count": 1,
   "id": "9d5dfcff",
   "metadata": {},
   "outputs": [],
   "source": [
    "import seaborn as sns\n",
    "import pandas as pd\n",
    "import numpy as np\n",
    "import matplotlib.pyplot as plt"
   ]
  },
  {
   "cell_type": "code",
   "execution_count": 2,
   "id": "8bbb3027",
   "metadata": {},
   "outputs": [],
   "source": [
    "from sklearn.metrics import accuracy_score\n",
    "from sklearn.metrics import precision_score\n",
    "from sklearn.metrics import recall_score\n",
    "from sklearn.metrics import f1_score\n",
    "from sklearn.metrics import r2_score\n",
    "from sklearn.metrics import matthews_corrcoef"
   ]
  },
  {
   "cell_type": "code",
   "execution_count": 3,
   "id": "fcc432b0",
   "metadata": {},
   "outputs": [],
   "source": [
    "from sklearn.ensemble import RandomForestClassifier\n",
    "from sklearn.datasets import make_classification\n",
    "from sklearn.model_selection import train_test_split\n"
   ]
  },
  {
   "cell_type": "code",
   "execution_count": 4,
   "id": "56cba8f3",
   "metadata": {},
   "outputs": [],
   "source": [
    "from sklearn.model_selection import train_test_split\n",
    "from sklearn.preprocessing import StandardScaler\n",
    "from sklearn.linear_model import LogisticRegression\n",
    "from sklearn.model_selection import cross_val_score\n",
    "from sklearn.tree import DecisionTreeClassifier\n",
    "from sklearn import tree\n",
    "from sklearn.metrics import mean_absolute_error, mean_squared_error, r2_score\n",
    "from sklearn.metrics import confusion_matrix, classification_report\n",
    "from tabulate import tabulate\n",
    "from imblearn.over_sampling import SMOTE, RandomOverSampler"
   ]
  },
  {
   "cell_type": "code",
   "execution_count": 5,
   "id": "45fbfe82",
   "metadata": {
    "scrolled": false
   },
   "outputs": [
    {
     "data": {
      "text/html": [
       "<div>\n",
       "<style scoped>\n",
       "    .dataframe tbody tr th:only-of-type {\n",
       "        vertical-align: middle;\n",
       "    }\n",
       "\n",
       "    .dataframe tbody tr th {\n",
       "        vertical-align: top;\n",
       "    }\n",
       "\n",
       "    .dataframe thead th {\n",
       "        text-align: right;\n",
       "    }\n",
       "</style>\n",
       "<table border=\"1\" class=\"dataframe\">\n",
       "  <thead>\n",
       "    <tr style=\"text-align: right;\">\n",
       "      <th></th>\n",
       "      <th>name</th>\n",
       "      <th>distance</th>\n",
       "      <th>stellar_magnitude</th>\n",
       "      <th>planet_type</th>\n",
       "      <th>discovery_year</th>\n",
       "      <th>mass_multiplier</th>\n",
       "      <th>mass_wrt</th>\n",
       "      <th>radius_multiplier</th>\n",
       "      <th>radius_wrt</th>\n",
       "      <th>orbital_radius</th>\n",
       "      <th>orbital_period</th>\n",
       "      <th>eccentricity</th>\n",
       "      <th>detection_method</th>\n",
       "    </tr>\n",
       "  </thead>\n",
       "  <tbody>\n",
       "    <tr>\n",
       "      <th>0</th>\n",
       "      <td>11 Comae Berenices b</td>\n",
       "      <td>304.0</td>\n",
       "      <td>4.72307</td>\n",
       "      <td>Gas Giant</td>\n",
       "      <td>2007</td>\n",
       "      <td>19.40000</td>\n",
       "      <td>Jupiter</td>\n",
       "      <td>1.080</td>\n",
       "      <td>Jupiter</td>\n",
       "      <td>1.290000</td>\n",
       "      <td>0.892539</td>\n",
       "      <td>0.23</td>\n",
       "      <td>Radial Velocity</td>\n",
       "    </tr>\n",
       "    <tr>\n",
       "      <th>1</th>\n",
       "      <td>11 Ursae Minoris b</td>\n",
       "      <td>409.0</td>\n",
       "      <td>5.01300</td>\n",
       "      <td>Gas Giant</td>\n",
       "      <td>2009</td>\n",
       "      <td>14.74000</td>\n",
       "      <td>Jupiter</td>\n",
       "      <td>1.090</td>\n",
       "      <td>Jupiter</td>\n",
       "      <td>1.530000</td>\n",
       "      <td>1.400000</td>\n",
       "      <td>0.08</td>\n",
       "      <td>Radial Velocity</td>\n",
       "    </tr>\n",
       "    <tr>\n",
       "      <th>2</th>\n",
       "      <td>14 Andromedae b</td>\n",
       "      <td>246.0</td>\n",
       "      <td>5.23133</td>\n",
       "      <td>Gas Giant</td>\n",
       "      <td>2008</td>\n",
       "      <td>4.80000</td>\n",
       "      <td>Jupiter</td>\n",
       "      <td>1.150</td>\n",
       "      <td>Jupiter</td>\n",
       "      <td>0.830000</td>\n",
       "      <td>0.508693</td>\n",
       "      <td>0.00</td>\n",
       "      <td>Radial Velocity</td>\n",
       "    </tr>\n",
       "    <tr>\n",
       "      <th>3</th>\n",
       "      <td>14 Herculis b</td>\n",
       "      <td>58.0</td>\n",
       "      <td>6.61935</td>\n",
       "      <td>Gas Giant</td>\n",
       "      <td>2002</td>\n",
       "      <td>8.13881</td>\n",
       "      <td>Jupiter</td>\n",
       "      <td>1.120</td>\n",
       "      <td>Jupiter</td>\n",
       "      <td>2.773069</td>\n",
       "      <td>4.800000</td>\n",
       "      <td>0.37</td>\n",
       "      <td>Radial Velocity</td>\n",
       "    </tr>\n",
       "    <tr>\n",
       "      <th>4</th>\n",
       "      <td>16 Cygni B b</td>\n",
       "      <td>69.0</td>\n",
       "      <td>6.21500</td>\n",
       "      <td>Gas Giant</td>\n",
       "      <td>1996</td>\n",
       "      <td>1.78000</td>\n",
       "      <td>Jupiter</td>\n",
       "      <td>1.200</td>\n",
       "      <td>Jupiter</td>\n",
       "      <td>1.660000</td>\n",
       "      <td>2.200000</td>\n",
       "      <td>0.68</td>\n",
       "      <td>Radial Velocity</td>\n",
       "    </tr>\n",
       "    <tr>\n",
       "      <th>...</th>\n",
       "      <td>...</td>\n",
       "      <td>...</td>\n",
       "      <td>...</td>\n",
       "      <td>...</td>\n",
       "      <td>...</td>\n",
       "      <td>...</td>\n",
       "      <td>...</td>\n",
       "      <td>...</td>\n",
       "      <td>...</td>\n",
       "      <td>...</td>\n",
       "      <td>...</td>\n",
       "      <td>...</td>\n",
       "      <td>...</td>\n",
       "    </tr>\n",
       "    <tr>\n",
       "      <th>5245</th>\n",
       "      <td>XO-7 b</td>\n",
       "      <td>764.0</td>\n",
       "      <td>10.52100</td>\n",
       "      <td>Gas Giant</td>\n",
       "      <td>2019</td>\n",
       "      <td>0.70900</td>\n",
       "      <td>Jupiter</td>\n",
       "      <td>1.373</td>\n",
       "      <td>Jupiter</td>\n",
       "      <td>0.044210</td>\n",
       "      <td>0.007940</td>\n",
       "      <td>0.04</td>\n",
       "      <td>Transit</td>\n",
       "    </tr>\n",
       "    <tr>\n",
       "      <th>5246</th>\n",
       "      <td>YSES 2 b</td>\n",
       "      <td>357.0</td>\n",
       "      <td>10.88500</td>\n",
       "      <td>Gas Giant</td>\n",
       "      <td>2021</td>\n",
       "      <td>6.30000</td>\n",
       "      <td>Jupiter</td>\n",
       "      <td>1.140</td>\n",
       "      <td>Jupiter</td>\n",
       "      <td>115.000000</td>\n",
       "      <td>1176.500000</td>\n",
       "      <td>0.00</td>\n",
       "      <td>Direct Imaging</td>\n",
       "    </tr>\n",
       "    <tr>\n",
       "      <th>5247</th>\n",
       "      <td>YZ Ceti b</td>\n",
       "      <td>12.0</td>\n",
       "      <td>12.07400</td>\n",
       "      <td>Terrestrial</td>\n",
       "      <td>2017</td>\n",
       "      <td>0.70000</td>\n",
       "      <td>Earth</td>\n",
       "      <td>0.913</td>\n",
       "      <td>Earth</td>\n",
       "      <td>0.016340</td>\n",
       "      <td>0.005476</td>\n",
       "      <td>0.06</td>\n",
       "      <td>Radial Velocity</td>\n",
       "    </tr>\n",
       "    <tr>\n",
       "      <th>5248</th>\n",
       "      <td>YZ Ceti c</td>\n",
       "      <td>12.0</td>\n",
       "      <td>12.07400</td>\n",
       "      <td>Super Earth</td>\n",
       "      <td>2017</td>\n",
       "      <td>1.14000</td>\n",
       "      <td>Earth</td>\n",
       "      <td>1.050</td>\n",
       "      <td>Earth</td>\n",
       "      <td>0.021560</td>\n",
       "      <td>0.008487</td>\n",
       "      <td>0.00</td>\n",
       "      <td>Radial Velocity</td>\n",
       "    </tr>\n",
       "    <tr>\n",
       "      <th>5249</th>\n",
       "      <td>YZ Ceti d</td>\n",
       "      <td>12.0</td>\n",
       "      <td>12.07400</td>\n",
       "      <td>Super Earth</td>\n",
       "      <td>2017</td>\n",
       "      <td>1.09000</td>\n",
       "      <td>Earth</td>\n",
       "      <td>1.030</td>\n",
       "      <td>Earth</td>\n",
       "      <td>0.028510</td>\n",
       "      <td>0.012868</td>\n",
       "      <td>0.07</td>\n",
       "      <td>Radial Velocity</td>\n",
       "    </tr>\n",
       "  </tbody>\n",
       "</table>\n",
       "<p>5250 rows × 13 columns</p>\n",
       "</div>"
      ],
      "text/plain": [
       "                      name  distance  stellar_magnitude  planet_type  \\\n",
       "0     11 Comae Berenices b     304.0            4.72307    Gas Giant   \n",
       "1       11 Ursae Minoris b     409.0            5.01300    Gas Giant   \n",
       "2          14 Andromedae b     246.0            5.23133    Gas Giant   \n",
       "3            14 Herculis b      58.0            6.61935    Gas Giant   \n",
       "4             16 Cygni B b      69.0            6.21500    Gas Giant   \n",
       "...                    ...       ...                ...          ...   \n",
       "5245                XO-7 b     764.0           10.52100    Gas Giant   \n",
       "5246              YSES 2 b     357.0           10.88500    Gas Giant   \n",
       "5247             YZ Ceti b      12.0           12.07400  Terrestrial   \n",
       "5248             YZ Ceti c      12.0           12.07400  Super Earth   \n",
       "5249             YZ Ceti d      12.0           12.07400  Super Earth   \n",
       "\n",
       "      discovery_year  mass_multiplier mass_wrt  radius_multiplier radius_wrt  \\\n",
       "0               2007         19.40000  Jupiter              1.080    Jupiter   \n",
       "1               2009         14.74000  Jupiter              1.090    Jupiter   \n",
       "2               2008          4.80000  Jupiter              1.150    Jupiter   \n",
       "3               2002          8.13881  Jupiter              1.120    Jupiter   \n",
       "4               1996          1.78000  Jupiter              1.200    Jupiter   \n",
       "...              ...              ...      ...                ...        ...   \n",
       "5245            2019          0.70900  Jupiter              1.373    Jupiter   \n",
       "5246            2021          6.30000  Jupiter              1.140    Jupiter   \n",
       "5247            2017          0.70000    Earth              0.913      Earth   \n",
       "5248            2017          1.14000    Earth              1.050      Earth   \n",
       "5249            2017          1.09000    Earth              1.030      Earth   \n",
       "\n",
       "      orbital_radius  orbital_period  eccentricity detection_method  \n",
       "0           1.290000        0.892539          0.23  Radial Velocity  \n",
       "1           1.530000        1.400000          0.08  Radial Velocity  \n",
       "2           0.830000        0.508693          0.00  Radial Velocity  \n",
       "3           2.773069        4.800000          0.37  Radial Velocity  \n",
       "4           1.660000        2.200000          0.68  Radial Velocity  \n",
       "...              ...             ...           ...              ...  \n",
       "5245        0.044210        0.007940          0.04          Transit  \n",
       "5246      115.000000     1176.500000          0.00   Direct Imaging  \n",
       "5247        0.016340        0.005476          0.06  Radial Velocity  \n",
       "5248        0.021560        0.008487          0.00  Radial Velocity  \n",
       "5249        0.028510        0.012868          0.07  Radial Velocity  \n",
       "\n",
       "[5250 rows x 13 columns]"
      ]
     },
     "execution_count": 5,
     "metadata": {},
     "output_type": "execute_result"
    }
   ],
   "source": [
    "df = pd.read_csv('cleaned_5250.csv')\n",
    "df"
   ]
  },
  {
   "cell_type": "code",
   "execution_count": 6,
   "id": "fccfed37",
   "metadata": {},
   "outputs": [
    {
     "data": {
      "text/html": [
       "<div>\n",
       "<style scoped>\n",
       "    .dataframe tbody tr th:only-of-type {\n",
       "        vertical-align: middle;\n",
       "    }\n",
       "\n",
       "    .dataframe tbody tr th {\n",
       "        vertical-align: top;\n",
       "    }\n",
       "\n",
       "    .dataframe thead th {\n",
       "        text-align: right;\n",
       "    }\n",
       "</style>\n",
       "<table border=\"1\" class=\"dataframe\">\n",
       "  <thead>\n",
       "    <tr style=\"text-align: right;\">\n",
       "      <th></th>\n",
       "      <th>count</th>\n",
       "      <th>mean</th>\n",
       "      <th>std</th>\n",
       "      <th>min</th>\n",
       "      <th>25%</th>\n",
       "      <th>50%</th>\n",
       "      <th>75%</th>\n",
       "      <th>max</th>\n",
       "    </tr>\n",
       "  </thead>\n",
       "  <tbody>\n",
       "    <tr>\n",
       "      <th>distance</th>\n",
       "      <td>5233.0</td>\n",
       "      <td>2167.168737</td>\n",
       "      <td>3245.522087</td>\n",
       "      <td>4.000000</td>\n",
       "      <td>389.000000</td>\n",
       "      <td>1371.000000</td>\n",
       "      <td>2779.000000</td>\n",
       "      <td>27727.00</td>\n",
       "    </tr>\n",
       "    <tr>\n",
       "      <th>stellar_magnitude</th>\n",
       "      <td>5089.0</td>\n",
       "      <td>12.683738</td>\n",
       "      <td>3.107571</td>\n",
       "      <td>0.872000</td>\n",
       "      <td>10.939000</td>\n",
       "      <td>13.543000</td>\n",
       "      <td>15.021000</td>\n",
       "      <td>44.61</td>\n",
       "    </tr>\n",
       "    <tr>\n",
       "      <th>discovery_year</th>\n",
       "      <td>5250.0</td>\n",
       "      <td>2015.732190</td>\n",
       "      <td>4.307336</td>\n",
       "      <td>1992.000000</td>\n",
       "      <td>2014.000000</td>\n",
       "      <td>2016.000000</td>\n",
       "      <td>2018.000000</td>\n",
       "      <td>2023.00</td>\n",
       "    </tr>\n",
       "    <tr>\n",
       "      <th>mass_multiplier</th>\n",
       "      <td>5227.0</td>\n",
       "      <td>6.434812</td>\n",
       "      <td>12.972727</td>\n",
       "      <td>0.020000</td>\n",
       "      <td>1.804000</td>\n",
       "      <td>4.170140</td>\n",
       "      <td>8.000000</td>\n",
       "      <td>752.00</td>\n",
       "    </tr>\n",
       "    <tr>\n",
       "      <th>radius_multiplier</th>\n",
       "      <td>5233.0</td>\n",
       "      <td>1.015121</td>\n",
       "      <td>0.603479</td>\n",
       "      <td>0.200000</td>\n",
       "      <td>0.325000</td>\n",
       "      <td>1.120000</td>\n",
       "      <td>1.410000</td>\n",
       "      <td>6.90</td>\n",
       "    </tr>\n",
       "    <tr>\n",
       "      <th>orbital_radius</th>\n",
       "      <td>4961.0</td>\n",
       "      <td>6.962942</td>\n",
       "      <td>138.673600</td>\n",
       "      <td>0.004400</td>\n",
       "      <td>0.053000</td>\n",
       "      <td>0.102800</td>\n",
       "      <td>0.286000</td>\n",
       "      <td>7506.00</td>\n",
       "    </tr>\n",
       "    <tr>\n",
       "      <th>orbital_period</th>\n",
       "      <td>5250.0</td>\n",
       "      <td>479.150875</td>\n",
       "      <td>16804.445318</td>\n",
       "      <td>0.000274</td>\n",
       "      <td>0.012594</td>\n",
       "      <td>0.034497</td>\n",
       "      <td>0.144216</td>\n",
       "      <td>1101369.90</td>\n",
       "    </tr>\n",
       "    <tr>\n",
       "      <th>eccentricity</th>\n",
       "      <td>5250.0</td>\n",
       "      <td>0.063568</td>\n",
       "      <td>0.141424</td>\n",
       "      <td>-0.520000</td>\n",
       "      <td>0.000000</td>\n",
       "      <td>0.000000</td>\n",
       "      <td>0.060000</td>\n",
       "      <td>0.95</td>\n",
       "    </tr>\n",
       "  </tbody>\n",
       "</table>\n",
       "</div>"
      ],
      "text/plain": [
       "                    count         mean           std          min  \\\n",
       "distance           5233.0  2167.168737   3245.522087     4.000000   \n",
       "stellar_magnitude  5089.0    12.683738      3.107571     0.872000   \n",
       "discovery_year     5250.0  2015.732190      4.307336  1992.000000   \n",
       "mass_multiplier    5227.0     6.434812     12.972727     0.020000   \n",
       "radius_multiplier  5233.0     1.015121      0.603479     0.200000   \n",
       "orbital_radius     4961.0     6.962942    138.673600     0.004400   \n",
       "orbital_period     5250.0   479.150875  16804.445318     0.000274   \n",
       "eccentricity       5250.0     0.063568      0.141424    -0.520000   \n",
       "\n",
       "                           25%          50%          75%         max  \n",
       "distance            389.000000  1371.000000  2779.000000    27727.00  \n",
       "stellar_magnitude    10.939000    13.543000    15.021000       44.61  \n",
       "discovery_year     2014.000000  2016.000000  2018.000000     2023.00  \n",
       "mass_multiplier       1.804000     4.170140     8.000000      752.00  \n",
       "radius_multiplier     0.325000     1.120000     1.410000        6.90  \n",
       "orbital_radius        0.053000     0.102800     0.286000     7506.00  \n",
       "orbital_period        0.012594     0.034497     0.144216  1101369.90  \n",
       "eccentricity          0.000000     0.000000     0.060000        0.95  "
      ]
     },
     "execution_count": 6,
     "metadata": {},
     "output_type": "execute_result"
    }
   ],
   "source": [
    "df.describe().T"
   ]
  },
  {
   "cell_type": "code",
   "execution_count": 7,
   "id": "3570f0be",
   "metadata": {},
   "outputs": [
    {
     "data": {
      "image/png": "[encoded data removed]",
      "text/plain": [
       "<Figure size 1440x1080 with 9 Axes>"
      ]
     },
     "metadata": {
      "needs_background": "light"
     },
     "output_type": "display_data"
    }
   ],
   "source": [
    "df.hist(bins=50,figsize=(20,15), color='purple')\n",
    "plt.show()"
   ]
  },
  {
   "cell_type": "code",
   "execution_count": 8,
   "id": "73bc9cb5",
   "metadata": {
    "scrolled": false
   },
   "outputs": [
    {
     "data": {
      "text/plain": [
       "planet_type\n",
       "Neptune-like    1825\n",
       "Gas Giant       1630\n",
       "Super Earth     1595\n",
       "Terrestrial      195\n",
       "Unknown            5\n",
       "Name: count, dtype: int64"
      ]
     },
     "execution_count": 8,
     "metadata": {},
     "output_type": "execute_result"
    }
   ],
   "source": [
    "df[\"planet_type\"].value_counts()"
   ]
  },
  {
   "cell_type": "code",
   "execution_count": 9,
   "id": "5a27b246",
   "metadata": {
    "scrolled": true
   },
   "outputs": [
    {
     "data": {
      "text/plain": [
       "<Axes: xlabel='planet_type', ylabel='count'>"
      ]
     },
     "execution_count": 9,
     "metadata": {},
     "output_type": "execute_result"
    },
    {
     "data": {
      "image/png": "[encoded data removed]",
      "text/plain": [
       "<Figure size 432x288 with 1 Axes>"
      ]
     },
     "metadata": {
      "needs_background": "light"
     },
     "output_type": "display_data"
    }
   ],
   "source": [
    "sns.countplot(x='planet_type', data=df)"
   ]
  },
  {
   "cell_type": "code",
   "execution_count": 35,
   "id": "8624b5ba",
   "metadata": {},
   "outputs": [],
   "source": [
    "df = df[df[\"planet_type\"] != \"Unknown\"] #We remove unknown values because they have no effect."
   ]
  },
  {
   "cell_type": "code",
   "execution_count": 11,
   "id": "f6ac2aa2",
   "metadata": {
    "scrolled": true
   },
   "outputs": [
    {
     "data": {
      "text/plain": [
       "planet_type\n",
       "Neptune-like    1825\n",
       "Gas Giant       1630\n",
       "Super Earth     1595\n",
       "Terrestrial      195\n",
       "Name: count, dtype: int64"
      ]
     },
     "execution_count": 11,
     "metadata": {},
     "output_type": "execute_result"
    }
   ],
   "source": [
    "df[\"planet_type\"].value_counts()"
   ]
  },
  {
   "cell_type": "code",
   "execution_count": 12,
   "id": "dd9d7e2c",
   "metadata": {
    "scrolled": true
   },
   "outputs": [
    {
     "data": {
      "text/plain": [
       "name                   0\n",
       "distance              17\n",
       "stellar_magnitude    161\n",
       "planet_type            0\n",
       "discovery_year         0\n",
       "mass_multiplier       18\n",
       "mass_wrt              18\n",
       "radius_multiplier     12\n",
       "radius_wrt            12\n",
       "orbital_radius       286\n",
       "orbital_period         0\n",
       "eccentricity           0\n",
       "detection_method       0\n",
       "dtype: int64"
      ]
     },
     "execution_count": 12,
     "metadata": {},
     "output_type": "execute_result"
    }
   ],
   "source": [
    "df.isnull().sum()"
   ]
  },
  {
   "cell_type": "code",
   "execution_count": 13,
   "id": "836100d7",
   "metadata": {
    "scrolled": false
   },
   "outputs": [
    {
     "data": {
      "text/html": [
       "<div>\n",
       "<style scoped>\n",
       "    .dataframe tbody tr th:only-of-type {\n",
       "        vertical-align: middle;\n",
       "    }\n",
       "\n",
       "    .dataframe tbody tr th {\n",
       "        vertical-align: top;\n",
       "    }\n",
       "\n",
       "    .dataframe thead th {\n",
       "        text-align: right;\n",
       "    }\n",
       "</style>\n",
       "<table border=\"1\" class=\"dataframe\">\n",
       "  <thead>\n",
       "    <tr style=\"text-align: right;\">\n",
       "      <th></th>\n",
       "      <th>distance</th>\n",
       "      <th>stellar_magnitude</th>\n",
       "      <th>planet_type</th>\n",
       "      <th>mass_multiplier</th>\n",
       "      <th>radius_multiplier</th>\n",
       "      <th>orbital_radius</th>\n",
       "      <th>orbital_period</th>\n",
       "      <th>eccentricity</th>\n",
       "    </tr>\n",
       "  </thead>\n",
       "  <tbody>\n",
       "    <tr>\n",
       "      <th>0</th>\n",
       "      <td>304.0</td>\n",
       "      <td>4.72307</td>\n",
       "      <td>1</td>\n",
       "      <td>19.40000</td>\n",
       "      <td>1.080</td>\n",
       "      <td>1.290000</td>\n",
       "      <td>0.892539</td>\n",
       "      <td>0.23</td>\n",
       "    </tr>\n",
       "    <tr>\n",
       "      <th>1</th>\n",
       "      <td>409.0</td>\n",
       "      <td>5.01300</td>\n",
       "      <td>1</td>\n",
       "      <td>14.74000</td>\n",
       "      <td>1.090</td>\n",
       "      <td>1.530000</td>\n",
       "      <td>1.400000</td>\n",
       "      <td>0.08</td>\n",
       "    </tr>\n",
       "    <tr>\n",
       "      <th>2</th>\n",
       "      <td>246.0</td>\n",
       "      <td>5.23133</td>\n",
       "      <td>1</td>\n",
       "      <td>4.80000</td>\n",
       "      <td>1.150</td>\n",
       "      <td>0.830000</td>\n",
       "      <td>0.508693</td>\n",
       "      <td>0.00</td>\n",
       "    </tr>\n",
       "    <tr>\n",
       "      <th>3</th>\n",
       "      <td>58.0</td>\n",
       "      <td>6.61935</td>\n",
       "      <td>1</td>\n",
       "      <td>8.13881</td>\n",
       "      <td>1.120</td>\n",
       "      <td>2.773069</td>\n",
       "      <td>4.800000</td>\n",
       "      <td>0.37</td>\n",
       "    </tr>\n",
       "    <tr>\n",
       "      <th>4</th>\n",
       "      <td>69.0</td>\n",
       "      <td>6.21500</td>\n",
       "      <td>1</td>\n",
       "      <td>1.78000</td>\n",
       "      <td>1.200</td>\n",
       "      <td>1.660000</td>\n",
       "      <td>2.200000</td>\n",
       "      <td>0.68</td>\n",
       "    </tr>\n",
       "    <tr>\n",
       "      <th>...</th>\n",
       "      <td>...</td>\n",
       "      <td>...</td>\n",
       "      <td>...</td>\n",
       "      <td>...</td>\n",
       "      <td>...</td>\n",
       "      <td>...</td>\n",
       "      <td>...</td>\n",
       "      <td>...</td>\n",
       "    </tr>\n",
       "    <tr>\n",
       "      <th>5245</th>\n",
       "      <td>764.0</td>\n",
       "      <td>10.52100</td>\n",
       "      <td>1</td>\n",
       "      <td>0.70900</td>\n",
       "      <td>1.373</td>\n",
       "      <td>0.044210</td>\n",
       "      <td>0.007940</td>\n",
       "      <td>0.04</td>\n",
       "    </tr>\n",
       "    <tr>\n",
       "      <th>5246</th>\n",
       "      <td>357.0</td>\n",
       "      <td>10.88500</td>\n",
       "      <td>1</td>\n",
       "      <td>6.30000</td>\n",
       "      <td>1.140</td>\n",
       "      <td>115.000000</td>\n",
       "      <td>1176.500000</td>\n",
       "      <td>0.00</td>\n",
       "    </tr>\n",
       "    <tr>\n",
       "      <th>5247</th>\n",
       "      <td>12.0</td>\n",
       "      <td>12.07400</td>\n",
       "      <td>3</td>\n",
       "      <td>0.70000</td>\n",
       "      <td>0.913</td>\n",
       "      <td>0.016340</td>\n",
       "      <td>0.005476</td>\n",
       "      <td>0.06</td>\n",
       "    </tr>\n",
       "    <tr>\n",
       "      <th>5248</th>\n",
       "      <td>12.0</td>\n",
       "      <td>12.07400</td>\n",
       "      <td>2</td>\n",
       "      <td>1.14000</td>\n",
       "      <td>1.050</td>\n",
       "      <td>0.021560</td>\n",
       "      <td>0.008487</td>\n",
       "      <td>0.00</td>\n",
       "    </tr>\n",
       "    <tr>\n",
       "      <th>5249</th>\n",
       "      <td>12.0</td>\n",
       "      <td>12.07400</td>\n",
       "      <td>2</td>\n",
       "      <td>1.09000</td>\n",
       "      <td>1.030</td>\n",
       "      <td>0.028510</td>\n",
       "      <td>0.012868</td>\n",
       "      <td>0.07</td>\n",
       "    </tr>\n",
       "  </tbody>\n",
       "</table>\n",
       "<p>5245 rows × 8 columns</p>\n",
       "</div>"
      ],
      "text/plain": [
       "      distance  stellar_magnitude  planet_type  mass_multiplier  \\\n",
       "0        304.0            4.72307            1         19.40000   \n",
       "1        409.0            5.01300            1         14.74000   \n",
       "2        246.0            5.23133            1          4.80000   \n",
       "3         58.0            6.61935            1          8.13881   \n",
       "4         69.0            6.21500            1          1.78000   \n",
       "...        ...                ...          ...              ...   \n",
       "5245     764.0           10.52100            1          0.70900   \n",
       "5246     357.0           10.88500            1          6.30000   \n",
       "5247      12.0           12.07400            3          0.70000   \n",
       "5248      12.0           12.07400            2          1.14000   \n",
       "5249      12.0           12.07400            2          1.09000   \n",
       "\n",
       "      radius_multiplier  orbital_radius  orbital_period  eccentricity  \n",
       "0                 1.080        1.290000        0.892539          0.23  \n",
       "1                 1.090        1.530000        1.400000          0.08  \n",
       "2                 1.150        0.830000        0.508693          0.00  \n",
       "3                 1.120        2.773069        4.800000          0.37  \n",
       "4                 1.200        1.660000        2.200000          0.68  \n",
       "...                 ...             ...             ...           ...  \n",
       "5245              1.373        0.044210        0.007940          0.04  \n",
       "5246              1.140      115.000000     1176.500000          0.00  \n",
       "5247              0.913        0.016340        0.005476          0.06  \n",
       "5248              1.050        0.021560        0.008487          0.00  \n",
       "5249              1.030        0.028510        0.012868          0.07  \n",
       "\n",
       "[5245 rows x 8 columns]"
      ]
     },
     "execution_count": 13,
     "metadata": {},
     "output_type": "execute_result"
    }
   ],
   "source": [
    "# Drop irrelevant columns\n",
    "df = df.drop(labels=['radius_wrt', 'mass_wrt', 'discovery_year','name','detection_method'], axis='columns')\n",
    "df.replace({'planet_type':{ 'Neptune-like':0,'Gas Giant':1 ,'Super Earth':2, 'Terrestrial':3}}, inplace= True)\n",
    "df"
   ]
  },
  {
   "cell_type": "code",
   "execution_count": 15,
   "id": "65b89613",
   "metadata": {},
   "outputs": [
    {
     "data": {
      "image/png": "[encoded data removed]",
      "text/plain": [
       "<Figure size 432x288 with 1 Axes>"
      ]
     },
     "metadata": {
      "needs_background": "light"
     },
     "output_type": "display_data"
    }
   ],
   "source": [
    "sns.scatterplot(x ='orbital_radius' , y = 'stellar_magnitude' , data = df);"
   ]
  },
  {
   "cell_type": "code",
   "execution_count": 16,
   "id": "9195b030",
   "metadata": {
    "scrolled": false
   },
   "outputs": [
    {
     "data": {
      "text/html": [
       "<div>\n",
       "<style scoped>\n",
       "    .dataframe tbody tr th:only-of-type {\n",
       "        vertical-align: middle;\n",
       "    }\n",
       "\n",
       "    .dataframe tbody tr th {\n",
       "        vertical-align: top;\n",
       "    }\n",
       "\n",
       "    .dataframe thead th {\n",
       "        text-align: right;\n",
       "    }\n",
       "</style>\n",
       "<table border=\"1\" class=\"dataframe\">\n",
       "  <thead>\n",
       "    <tr style=\"text-align: right;\">\n",
       "      <th></th>\n",
       "      <th>distance</th>\n",
       "      <th>stellar_magnitude</th>\n",
       "      <th>planet_type</th>\n",
       "      <th>mass_multiplier</th>\n",
       "      <th>radius_multiplier</th>\n",
       "      <th>orbital_radius</th>\n",
       "      <th>orbital_period</th>\n",
       "      <th>eccentricity</th>\n",
       "    </tr>\n",
       "  </thead>\n",
       "  <tbody>\n",
       "    <tr>\n",
       "      <th>0</th>\n",
       "      <td>304.0</td>\n",
       "      <td>4.72307</td>\n",
       "      <td>1</td>\n",
       "      <td>19.40000</td>\n",
       "      <td>1.080</td>\n",
       "      <td>1.290000</td>\n",
       "      <td>0.892539</td>\n",
       "      <td>0.23</td>\n",
       "    </tr>\n",
       "    <tr>\n",
       "      <th>1</th>\n",
       "      <td>409.0</td>\n",
       "      <td>5.01300</td>\n",
       "      <td>1</td>\n",
       "      <td>14.74000</td>\n",
       "      <td>1.090</td>\n",
       "      <td>1.530000</td>\n",
       "      <td>1.400000</td>\n",
       "      <td>0.08</td>\n",
       "    </tr>\n",
       "    <tr>\n",
       "      <th>2</th>\n",
       "      <td>246.0</td>\n",
       "      <td>5.23133</td>\n",
       "      <td>1</td>\n",
       "      <td>4.80000</td>\n",
       "      <td>1.150</td>\n",
       "      <td>0.830000</td>\n",
       "      <td>0.508693</td>\n",
       "      <td>0.00</td>\n",
       "    </tr>\n",
       "    <tr>\n",
       "      <th>3</th>\n",
       "      <td>58.0</td>\n",
       "      <td>6.61935</td>\n",
       "      <td>1</td>\n",
       "      <td>8.13881</td>\n",
       "      <td>1.120</td>\n",
       "      <td>2.773069</td>\n",
       "      <td>4.800000</td>\n",
       "      <td>0.37</td>\n",
       "    </tr>\n",
       "    <tr>\n",
       "      <th>4</th>\n",
       "      <td>69.0</td>\n",
       "      <td>6.21500</td>\n",
       "      <td>1</td>\n",
       "      <td>1.78000</td>\n",
       "      <td>1.200</td>\n",
       "      <td>1.660000</td>\n",
       "      <td>2.200000</td>\n",
       "      <td>0.68</td>\n",
       "    </tr>\n",
       "    <tr>\n",
       "      <th>...</th>\n",
       "      <td>...</td>\n",
       "      <td>...</td>\n",
       "      <td>...</td>\n",
       "      <td>...</td>\n",
       "      <td>...</td>\n",
       "      <td>...</td>\n",
       "      <td>...</td>\n",
       "      <td>...</td>\n",
       "    </tr>\n",
       "    <tr>\n",
       "      <th>5245</th>\n",
       "      <td>764.0</td>\n",
       "      <td>10.52100</td>\n",
       "      <td>1</td>\n",
       "      <td>0.70900</td>\n",
       "      <td>1.373</td>\n",
       "      <td>0.044210</td>\n",
       "      <td>0.007940</td>\n",
       "      <td>0.04</td>\n",
       "    </tr>\n",
       "    <tr>\n",
       "      <th>5246</th>\n",
       "      <td>357.0</td>\n",
       "      <td>10.88500</td>\n",
       "      <td>1</td>\n",
       "      <td>6.30000</td>\n",
       "      <td>1.140</td>\n",
       "      <td>115.000000</td>\n",
       "      <td>1176.500000</td>\n",
       "      <td>0.00</td>\n",
       "    </tr>\n",
       "    <tr>\n",
       "      <th>5247</th>\n",
       "      <td>12.0</td>\n",
       "      <td>12.07400</td>\n",
       "      <td>3</td>\n",
       "      <td>0.70000</td>\n",
       "      <td>0.913</td>\n",
       "      <td>0.016340</td>\n",
       "      <td>0.005476</td>\n",
       "      <td>0.06</td>\n",
       "    </tr>\n",
       "    <tr>\n",
       "      <th>5248</th>\n",
       "      <td>12.0</td>\n",
       "      <td>12.07400</td>\n",
       "      <td>2</td>\n",
       "      <td>1.14000</td>\n",
       "      <td>1.050</td>\n",
       "      <td>0.021560</td>\n",
       "      <td>0.008487</td>\n",
       "      <td>0.00</td>\n",
       "    </tr>\n",
       "    <tr>\n",
       "      <th>5249</th>\n",
       "      <td>12.0</td>\n",
       "      <td>12.07400</td>\n",
       "      <td>2</td>\n",
       "      <td>1.09000</td>\n",
       "      <td>1.030</td>\n",
       "      <td>0.028510</td>\n",
       "      <td>0.012868</td>\n",
       "      <td>0.07</td>\n",
       "    </tr>\n",
       "  </tbody>\n",
       "</table>\n",
       "<p>4765 rows × 8 columns</p>\n",
       "</div>"
      ],
      "text/plain": [
       "      distance  stellar_magnitude  planet_type  mass_multiplier  \\\n",
       "0        304.0            4.72307            1         19.40000   \n",
       "1        409.0            5.01300            1         14.74000   \n",
       "2        246.0            5.23133            1          4.80000   \n",
       "3         58.0            6.61935            1          8.13881   \n",
       "4         69.0            6.21500            1          1.78000   \n",
       "...        ...                ...          ...              ...   \n",
       "5245     764.0           10.52100            1          0.70900   \n",
       "5246     357.0           10.88500            1          6.30000   \n",
       "5247      12.0           12.07400            3          0.70000   \n",
       "5248      12.0           12.07400            2          1.14000   \n",
       "5249      12.0           12.07400            2          1.09000   \n",
       "\n",
       "      radius_multiplier  orbital_radius  orbital_period  eccentricity  \n",
       "0                 1.080        1.290000        0.892539          0.23  \n",
       "1                 1.090        1.530000        1.400000          0.08  \n",
       "2                 1.150        0.830000        0.508693          0.00  \n",
       "3                 1.120        2.773069        4.800000          0.37  \n",
       "4                 1.200        1.660000        2.200000          0.68  \n",
       "...                 ...             ...             ...           ...  \n",
       "5245              1.373        0.044210        0.007940          0.04  \n",
       "5246              1.140      115.000000     1176.500000          0.00  \n",
       "5247              0.913        0.016340        0.005476          0.06  \n",
       "5248              1.050        0.021560        0.008487          0.00  \n",
       "5249              1.030        0.028510        0.012868          0.07  \n",
       "\n",
       "[4765 rows x 8 columns]"
      ]
     },
     "execution_count": 16,
     "metadata": {},
     "output_type": "execute_result"
    }
   ],
   "source": [
    "columns_to_clean = ['distance', 'stellar_magnitude', 'mass_multiplier', 'radius_multiplier', 'orbital_radius']\n",
    "df.dropna(subset=columns_to_clean, inplace=True)\n",
    "df"
   ]
  },
  {
   "cell_type": "code",
   "execution_count": 17,
   "id": "cf91f343",
   "metadata": {},
   "outputs": [
    {
     "data": {
      "text/plain": [
       "planet_type\n",
       "0    1670\n",
       "2    1477\n",
       "1    1435\n",
       "3     183\n",
       "Name: count, dtype: int64"
      ]
     },
     "execution_count": 17,
     "metadata": {},
     "output_type": "execute_result"
    }
   ],
   "source": [
    "df[\"planet_type\"].value_counts()"
   ]
  },
  {
   "cell_type": "code",
   "execution_count": 18,
   "id": "3b3ccacf",
   "metadata": {
    "scrolled": false
   },
   "outputs": [
    {
     "data": {
      "text/html": [
       "<style type=\"text/css\">\n",
       "#T_9ee76_row0_col0, #T_9ee76_row1_col1, #T_9ee76_row2_col2, #T_9ee76_row3_col3, #T_9ee76_row4_col4, #T_9ee76_row5_col5, #T_9ee76_row6_col6, #T_9ee76_row7_col7 {\n",
       "  background-color: #b40426;\n",
       "  color: #f1f1f1;\n",
       "}\n",
       "#T_9ee76_row0_col1, #T_9ee76_row1_col0 {\n",
       "  background-color: #f59c7d;\n",
       "  color: #000000;\n",
       "}\n",
       "#T_9ee76_row0_col2, #T_9ee76_row2_col0 {\n",
       "  background-color: #93b5fe;\n",
       "  color: #000000;\n",
       "}\n",
       "#T_9ee76_row0_col3, #T_9ee76_row1_col2, #T_9ee76_row2_col1, #T_9ee76_row3_col0 {\n",
       "  background-color: #aec9fc;\n",
       "  color: #000000;\n",
       "}\n",
       "#T_9ee76_row0_col4, #T_9ee76_row4_col0 {\n",
       "  background-color: #96b7ff;\n",
       "  color: #000000;\n",
       "}\n",
       "#T_9ee76_row0_col5, #T_9ee76_row5_col0 {\n",
       "  background-color: #9dbdff;\n",
       "  color: #000000;\n",
       "}\n",
       "#T_9ee76_row0_col6, #T_9ee76_row1_col3, #T_9ee76_row3_col1, #T_9ee76_row6_col0 {\n",
       "  background-color: #a1c0ff;\n",
       "  color: #000000;\n",
       "}\n",
       "#T_9ee76_row0_col7, #T_9ee76_row7_col0 {\n",
       "  background-color: #5d7ce6;\n",
       "  color: #f1f1f1;\n",
       "}\n",
       "#T_9ee76_row1_col4, #T_9ee76_row2_col7, #T_9ee76_row4_col1, #T_9ee76_row7_col2 {\n",
       "  background-color: #98b9ff;\n",
       "  color: #000000;\n",
       "}\n",
       "#T_9ee76_row1_col5, #T_9ee76_row5_col1, #T_9ee76_row6_col7, #T_9ee76_row7_col6 {\n",
       "  background-color: #a3c2fe;\n",
       "  color: #000000;\n",
       "}\n",
       "#T_9ee76_row1_col6, #T_9ee76_row2_col5, #T_9ee76_row2_col6, #T_9ee76_row5_col2, #T_9ee76_row6_col1, #T_9ee76_row6_col2 {\n",
       "  background-color: #a6c4fe;\n",
       "  color: #000000;\n",
       "}\n",
       "#T_9ee76_row1_col7, #T_9ee76_row7_col1 {\n",
       "  background-color: #3b4cc0;\n",
       "  color: #f1f1f1;\n",
       "}\n",
       "#T_9ee76_row2_col3, #T_9ee76_row3_col2 {\n",
       "  background-color: #7597f6;\n",
       "  color: #f1f1f1;\n",
       "}\n",
       "#T_9ee76_row2_col4, #T_9ee76_row4_col2 {\n",
       "  background-color: #f7a889;\n",
       "  color: #000000;\n",
       "}\n",
       "#T_9ee76_row3_col4, #T_9ee76_row4_col3 {\n",
       "  background-color: #9abbff;\n",
       "  color: #000000;\n",
       "}\n",
       "#T_9ee76_row3_col5, #T_9ee76_row5_col3 {\n",
       "  background-color: #abc8fd;\n",
       "  color: #000000;\n",
       "}\n",
       "#T_9ee76_row3_col6, #T_9ee76_row3_col7, #T_9ee76_row6_col3, #T_9ee76_row7_col3 {\n",
       "  background-color: #a9c6fd;\n",
       "  color: #000000;\n",
       "}\n",
       "#T_9ee76_row4_col5, #T_9ee76_row5_col4 {\n",
       "  background-color: #aac7fd;\n",
       "  color: #000000;\n",
       "}\n",
       "#T_9ee76_row4_col6, #T_9ee76_row6_col4 {\n",
       "  background-color: #a7c5fe;\n",
       "  color: #000000;\n",
       "}\n",
       "#T_9ee76_row4_col7, #T_9ee76_row7_col4 {\n",
       "  background-color: #adc9fd;\n",
       "  color: #000000;\n",
       "}\n",
       "#T_9ee76_row5_col6, #T_9ee76_row6_col5 {\n",
       "  background-color: #c0282f;\n",
       "  color: #f1f1f1;\n",
       "}\n",
       "#T_9ee76_row5_col7, #T_9ee76_row7_col5 {\n",
       "  background-color: #a5c3fe;\n",
       "  color: #000000;\n",
       "}\n",
       "</style>\n",
       "<table id=\"T_9ee76\">\n",
       "  <thead>\n",
       "    <tr>\n",
       "      <th class=\"blank level0\" >&nbsp;</th>\n",
       "      <th id=\"T_9ee76_level0_col0\" class=\"col_heading level0 col0\" >distance</th>\n",
       "      <th id=\"T_9ee76_level0_col1\" class=\"col_heading level0 col1\" >stellar_magnitude</th>\n",
       "      <th id=\"T_9ee76_level0_col2\" class=\"col_heading level0 col2\" >planet_type</th>\n",
       "      <th id=\"T_9ee76_level0_col3\" class=\"col_heading level0 col3\" >mass_multiplier</th>\n",
       "      <th id=\"T_9ee76_level0_col4\" class=\"col_heading level0 col4\" >radius_multiplier</th>\n",
       "      <th id=\"T_9ee76_level0_col5\" class=\"col_heading level0 col5\" >orbital_radius</th>\n",
       "      <th id=\"T_9ee76_level0_col6\" class=\"col_heading level0 col6\" >orbital_period</th>\n",
       "      <th id=\"T_9ee76_level0_col7\" class=\"col_heading level0 col7\" >eccentricity</th>\n",
       "    </tr>\n",
       "  </thead>\n",
       "  <tbody>\n",
       "    <tr>\n",
       "      <th id=\"T_9ee76_level0_row0\" class=\"row_heading level0 row0\" >distance</th>\n",
       "      <td id=\"T_9ee76_row0_col0\" class=\"data row0 col0\" >1.000000</td>\n",
       "      <td id=\"T_9ee76_row0_col1\" class=\"data row0 col1\" >0.619741</td>\n",
       "      <td id=\"T_9ee76_row0_col2\" class=\"data row0 col2\" >-0.085153</td>\n",
       "      <td id=\"T_9ee76_row0_col3\" class=\"data row0 col3\" >0.035827</td>\n",
       "      <td id=\"T_9ee76_row0_col4\" class=\"data row0 col4\" >-0.072653</td>\n",
       "      <td id=\"T_9ee76_row0_col5\" class=\"data row0 col5\" >-0.039565</td>\n",
       "      <td id=\"T_9ee76_row0_col6\" class=\"data row0 col6\" >-0.024429</td>\n",
       "      <td id=\"T_9ee76_row0_col7\" class=\"data row0 col7\" >-0.311274</td>\n",
       "    </tr>\n",
       "    <tr>\n",
       "      <th id=\"T_9ee76_level0_row1\" class=\"row_heading level0 row1\" >stellar_magnitude</th>\n",
       "      <td id=\"T_9ee76_row1_col0\" class=\"data row1 col0\" >0.619741</td>\n",
       "      <td id=\"T_9ee76_row1_col1\" class=\"data row1 col1\" >1.000000</td>\n",
       "      <td id=\"T_9ee76_row1_col2\" class=\"data row1 col2\" >0.035407</td>\n",
       "      <td id=\"T_9ee76_row1_col3\" class=\"data row1 col3\" >-0.022076</td>\n",
       "      <td id=\"T_9ee76_row1_col4\" class=\"data row1 col4\" >-0.059217</td>\n",
       "      <td id=\"T_9ee76_row1_col5\" class=\"data row1 col5\" >-0.014660</td>\n",
       "      <td id=\"T_9ee76_row1_col6\" class=\"data row1 col6\" >-0.000710</td>\n",
       "      <td id=\"T_9ee76_row1_col7\" class=\"data row1 col7\" >-0.477936</td>\n",
       "    </tr>\n",
       "    <tr>\n",
       "      <th id=\"T_9ee76_level0_row2\" class=\"row_heading level0 row2\" >planet_type</th>\n",
       "      <td id=\"T_9ee76_row2_col0\" class=\"data row2 col0\" >-0.085153</td>\n",
       "      <td id=\"T_9ee76_row2_col1\" class=\"data row2 col1\" >0.035407</td>\n",
       "      <td id=\"T_9ee76_row2_col2\" class=\"data row2 col2\" >1.000000</td>\n",
       "      <td id=\"T_9ee76_row2_col3\" class=\"data row2 col3\" >-0.211666</td>\n",
       "      <td id=\"T_9ee76_row2_col4\" class=\"data row2 col4\" >0.572887</td>\n",
       "      <td id=\"T_9ee76_row2_col5\" class=\"data row2 col5\" >-0.002159</td>\n",
       "      <td id=\"T_9ee76_row2_col6\" class=\"data row2 col6\" >-0.001104</td>\n",
       "      <td id=\"T_9ee76_row2_col7\" class=\"data row2 col7\" >-0.060033</td>\n",
       "    </tr>\n",
       "    <tr>\n",
       "      <th id=\"T_9ee76_level0_row3\" class=\"row_heading level0 row3\" >mass_multiplier</th>\n",
       "      <td id=\"T_9ee76_row3_col0\" class=\"data row3 col0\" >0.035827</td>\n",
       "      <td id=\"T_9ee76_row3_col1\" class=\"data row3 col1\" >-0.022076</td>\n",
       "      <td id=\"T_9ee76_row3_col2\" class=\"data row3 col2\" >-0.211666</td>\n",
       "      <td id=\"T_9ee76_row3_col3\" class=\"data row3 col3\" >1.000000</td>\n",
       "      <td id=\"T_9ee76_row3_col4\" class=\"data row3 col4\" >-0.053314</td>\n",
       "      <td id=\"T_9ee76_row3_col5\" class=\"data row3 col5\" >0.020781</td>\n",
       "      <td id=\"T_9ee76_row3_col6\" class=\"data row3 col6\" >0.007251</td>\n",
       "      <td id=\"T_9ee76_row3_col7\" class=\"data row3 col7\" >0.012410</td>\n",
       "    </tr>\n",
       "    <tr>\n",
       "      <th id=\"T_9ee76_level0_row4\" class=\"row_heading level0 row4\" >radius_multiplier</th>\n",
       "      <td id=\"T_9ee76_row4_col0\" class=\"data row4 col0\" >-0.072653</td>\n",
       "      <td id=\"T_9ee76_row4_col1\" class=\"data row4 col1\" >-0.059217</td>\n",
       "      <td id=\"T_9ee76_row4_col2\" class=\"data row4 col2\" >0.572887</td>\n",
       "      <td id=\"T_9ee76_row4_col3\" class=\"data row4 col3\" >-0.053314</td>\n",
       "      <td id=\"T_9ee76_row4_col4\" class=\"data row4 col4\" >1.000000</td>\n",
       "      <td id=\"T_9ee76_row4_col5\" class=\"data row4 col5\" >0.013993</td>\n",
       "      <td id=\"T_9ee76_row4_col6\" class=\"data row4 col6\" >0.005585</td>\n",
       "      <td id=\"T_9ee76_row4_col7\" class=\"data row4 col7\" >0.027955</td>\n",
       "    </tr>\n",
       "    <tr>\n",
       "      <th id=\"T_9ee76_level0_row5\" class=\"row_heading level0 row5\" >orbital_radius</th>\n",
       "      <td id=\"T_9ee76_row5_col0\" class=\"data row5 col0\" >-0.039565</td>\n",
       "      <td id=\"T_9ee76_row5_col1\" class=\"data row5 col1\" >-0.014660</td>\n",
       "      <td id=\"T_9ee76_row5_col2\" class=\"data row5 col2\" >-0.002159</td>\n",
       "      <td id=\"T_9ee76_row5_col3\" class=\"data row5 col3\" >0.020781</td>\n",
       "      <td id=\"T_9ee76_row5_col4\" class=\"data row5 col4\" >0.013993</td>\n",
       "      <td id=\"T_9ee76_row5_col5\" class=\"data row5 col5\" >1.000000</td>\n",
       "      <td id=\"T_9ee76_row5_col6\" class=\"data row5 col6\" >0.952653</td>\n",
       "      <td id=\"T_9ee76_row5_col7\" class=\"data row5 col7\" >-0.009218</td>\n",
       "    </tr>\n",
       "    <tr>\n",
       "      <th id=\"T_9ee76_level0_row6\" class=\"row_heading level0 row6\" >orbital_period</th>\n",
       "      <td id=\"T_9ee76_row6_col0\" class=\"data row6 col0\" >-0.024429</td>\n",
       "      <td id=\"T_9ee76_row6_col1\" class=\"data row6 col1\" >-0.000710</td>\n",
       "      <td id=\"T_9ee76_row6_col2\" class=\"data row6 col2\" >-0.001104</td>\n",
       "      <td id=\"T_9ee76_row6_col3\" class=\"data row6 col3\" >0.007251</td>\n",
       "      <td id=\"T_9ee76_row6_col4\" class=\"data row6 col4\" >0.005585</td>\n",
       "      <td id=\"T_9ee76_row6_col5\" class=\"data row6 col5\" >0.952653</td>\n",
       "      <td id=\"T_9ee76_row6_col6\" class=\"data row6 col6\" >1.000000</td>\n",
       "      <td id=\"T_9ee76_row6_col7\" class=\"data row6 col7\" >-0.012084</td>\n",
       "    </tr>\n",
       "    <tr>\n",
       "      <th id=\"T_9ee76_level0_row7\" class=\"row_heading level0 row7\" >eccentricity</th>\n",
       "      <td id=\"T_9ee76_row7_col0\" class=\"data row7 col0\" >-0.311274</td>\n",
       "      <td id=\"T_9ee76_row7_col1\" class=\"data row7 col1\" >-0.477936</td>\n",
       "      <td id=\"T_9ee76_row7_col2\" class=\"data row7 col2\" >-0.060033</td>\n",
       "      <td id=\"T_9ee76_row7_col3\" class=\"data row7 col3\" >0.012410</td>\n",
       "      <td id=\"T_9ee76_row7_col4\" class=\"data row7 col4\" >0.027955</td>\n",
       "      <td id=\"T_9ee76_row7_col5\" class=\"data row7 col5\" >-0.009218</td>\n",
       "      <td id=\"T_9ee76_row7_col6\" class=\"data row7 col6\" >-0.012084</td>\n",
       "      <td id=\"T_9ee76_row7_col7\" class=\"data row7 col7\" >1.000000</td>\n",
       "    </tr>\n",
       "  </tbody>\n",
       "</table>\n"
      ],
      "text/plain": [
       "<pandas.io.formats.style.Styler at 0x7fa621526e20>"
      ]
     },
     "metadata": {},
     "output_type": "display_data"
    },
    {
     "name": "stdout",
     "output_type": "stream",
     "text": [
      "distance             0\n",
      "stellar_magnitude    0\n",
      "planet_type          0\n",
      "mass_multiplier      0\n",
      "radius_multiplier    0\n",
      "orbital_radius       0\n",
      "orbital_period       0\n",
      "eccentricity         0\n",
      "dtype: int64\n"
     ]
    }
   ],
   "source": [
    "display(df.corr().style.background_gradient(cmap='coolwarm',axis = None))\n",
    "print(df.isnull().sum())"
   ]
  },
  {
   "cell_type": "code",
   "execution_count": 19,
   "id": "88c8386b",
   "metadata": {},
   "outputs": [],
   "source": [
    "X = df.drop('planet_type',axis=1)\n",
    "Y = df['planet_type']"
   ]
  },
  {
   "cell_type": "code",
   "execution_count": 20,
   "id": "30b7a847",
   "metadata": {
    "scrolled": true
   },
   "outputs": [
    {
     "name": "stdout",
     "output_type": "stream",
     "text": [
      "(4765, 7)\n",
      "(4765,)\n"
     ]
    }
   ],
   "source": [
    "X_train, X_test, Y_train, Y_test = train_test_split(X,Y, test_size=0.2, random_state=0)\n",
    "print(X.shape)\n",
    "print(Y.shape)"
   ]
  },
  {
   "cell_type": "markdown",
   "id": "f8aef207",
   "metadata": {},
   "source": [
    "# KNN"
   ]
  },
  {
   "cell_type": "code",
   "execution_count": 21,
   "id": "99b57bd4",
   "metadata": {},
   "outputs": [],
   "source": [
    "from sklearn.neighbors import KNeighborsClassifier\n",
    "clf = KNeighborsClassifier(n_neighbors=1, n_jobs=-1).fit(X_train,Y_train)"
   ]
  },
  {
   "cell_type": "code",
   "execution_count": 22,
   "id": "9fca3c7a",
   "metadata": {
    "scrolled": true
   },
   "outputs": [
    {
     "name": "stderr",
     "output_type": "stream",
     "text": [
      "/opt/anaconda3/lib/python3.9/site-packages/sklearn/neighbors/_classification.py:228: FutureWarning: Unlike other reduction functions (e.g. `skew`, `kurtosis`), the default behavior of `mode` typically preserves the axis it acts along. In SciPy 1.11.0, this behavior will change: the default value of `keepdims` will become False, the `axis` over which the statistic is taken will be eliminated, and the value None will no longer be accepted. Set `keepdims` to True or False to avoid this warning.\n",
      "  mode, _ = stats.mode(_y[neigh_ind, k], axis=1)\n"
     ]
    }
   ],
   "source": [
    "Y_pred1 = clf.predict(X_test)"
   ]
  },
  {
   "cell_type": "code",
   "execution_count": 23,
   "id": "0cdc9ef0",
   "metadata": {
    "scrolled": false
   },
   "outputs": [
    {
     "name": "stderr",
     "output_type": "stream",
     "text": [
      "/opt/anaconda3/lib/python3.9/site-packages/sklearn/neighbors/_classification.py:228: FutureWarning: Unlike other reduction functions (e.g. `skew`, `kurtosis`), the default behavior of `mode` typically preserves the axis it acts along. In SciPy 1.11.0, this behavior will change: the default value of `keepdims` will become False, the `axis` over which the statistic is taken will be eliminated, and the value None will no longer be accepted. Set `keepdims` to True or False to avoid this warning.\n",
      "  mode, _ = stats.mode(_y[neigh_ind, k], axis=1)\n",
      "/opt/anaconda3/lib/python3.9/site-packages/sklearn/utils/deprecation.py:87: FutureWarning: Function plot_confusion_matrix is deprecated; Function `plot_confusion_matrix` is deprecated in 1.0 and will be removed in 1.2. Use one of the class methods: ConfusionMatrixDisplay.from_predictions or ConfusionMatrixDisplay.from_estimator.\n",
      "  warnings.warn(msg, category=FutureWarning)\n",
      "/opt/anaconda3/lib/python3.9/site-packages/sklearn/neighbors/_classification.py:228: FutureWarning: Unlike other reduction functions (e.g. `skew`, `kurtosis`), the default behavior of `mode` typically preserves the axis it acts along. In SciPy 1.11.0, this behavior will change: the default value of `keepdims` will become False, the `axis` over which the statistic is taken will be eliminated, and the value None will no longer be accepted. Set `keepdims` to True or False to avoid this warning.\n",
      "  mode, _ = stats.mode(_y[neigh_ind, k], axis=1)\n"
     ]
    },
    {
     "name": "stdout",
     "output_type": "stream",
     "text": [
      "[[265  13  74   1]\n",
      " [ 28 183  47  12]\n",
      " [ 46  47 190  16]\n",
      " [  2   9   8  12]]\n",
      "              precision    recall  f1-score   support\n",
      "\n",
      "           0       0.78      0.75      0.76       353\n",
      "           1       0.73      0.68      0.70       270\n",
      "           2       0.60      0.64      0.61       299\n",
      "           3       0.29      0.39      0.33        31\n",
      "\n",
      "    accuracy                           0.68       953\n",
      "   macro avg       0.60      0.61      0.60       953\n",
      "weighted avg       0.69      0.68      0.69       953\n",
      "\n"
     ]
    },
    {
     "data": {
      "image/png": "[encoded data removed]",
      "text/plain": [
       "<Figure size 432x288 with 2 Axes>"
      ]
     },
     "metadata": {
      "needs_background": "light"
     },
     "output_type": "display_data"
    }
   ],
   "source": [
    "from sklearn.metrics import plot_confusion_matrix\n",
    "Y_pred1 = clf.predict(X_test)\n",
    "print (confusion_matrix(Y_test, Y_pred1))\n",
    "print (classification_report (Y_test, Y_pred1))\n",
    "plot_confusion_matrix(clf, X_test, Y_test);"
   ]
  },
  {
   "cell_type": "code",
   "execution_count": 24,
   "id": "23197b5a",
   "metadata": {
    "scrolled": true
   },
   "outputs": [
    {
     "name": "stderr",
     "output_type": "stream",
     "text": [
      "/opt/anaconda3/lib/python3.9/site-packages/sklearn/neighbors/_classification.py:228: FutureWarning: Unlike other reduction functions (e.g. `skew`, `kurtosis`), the default behavior of `mode` typically preserves the axis it acts along. In SciPy 1.11.0, this behavior will change: the default value of `keepdims` will become False, the `axis` over which the statistic is taken will be eliminated, and the value None will no longer be accepted. Set `keepdims` to True or False to avoid this warning.\n",
      "  mode, _ = stats.mode(_y[neigh_ind, k], axis=1)\n",
      "/opt/anaconda3/lib/python3.9/site-packages/sklearn/neighbors/_classification.py:228: FutureWarning: Unlike other reduction functions (e.g. `skew`, `kurtosis`), the default behavior of `mode` typically preserves the axis it acts along. In SciPy 1.11.0, this behavior will change: the default value of `keepdims` will become False, the `axis` over which the statistic is taken will be eliminated, and the value None will no longer be accepted. Set `keepdims` to True or False to avoid this warning.\n",
      "  mode, _ = stats.mode(_y[neigh_ind, k], axis=1)\n",
      "/opt/anaconda3/lib/python3.9/site-packages/sklearn/neighbors/_classification.py:228: FutureWarning: Unlike other reduction functions (e.g. `skew`, `kurtosis`), the default behavior of `mode` typically preserves the axis it acts along. In SciPy 1.11.0, this behavior will change: the default value of `keepdims` will become False, the `axis` over which the statistic is taken will be eliminated, and the value None will no longer be accepted. Set `keepdims` to True or False to avoid this warning.\n",
      "  mode, _ = stats.mode(_y[neigh_ind, k], axis=1)\n",
      "/opt/anaconda3/lib/python3.9/site-packages/sklearn/neighbors/_classification.py:228: FutureWarning: Unlike other reduction functions (e.g. `skew`, `kurtosis`), the default behavior of `mode` typically preserves the axis it acts along. In SciPy 1.11.0, this behavior will change: the default value of `keepdims` will become False, the `axis` over which the statistic is taken will be eliminated, and the value None will no longer be accepted. Set `keepdims` to True or False to avoid this warning.\n",
      "  mode, _ = stats.mode(_y[neigh_ind, k], axis=1)\n",
      "/opt/anaconda3/lib/python3.9/site-packages/sklearn/neighbors/_classification.py:228: FutureWarning: Unlike other reduction functions (e.g. `skew`, `kurtosis`), the default behavior of `mode` typically preserves the axis it acts along. In SciPy 1.11.0, this behavior will change: the default value of `keepdims` will become False, the `axis` over which the statistic is taken will be eliminated, and the value None will no longer be accepted. Set `keepdims` to True or False to avoid this warning.\n",
      "  mode, _ = stats.mode(_y[neigh_ind, k], axis=1)\n",
      "/opt/anaconda3/lib/python3.9/site-packages/sklearn/neighbors/_classification.py:228: FutureWarning: Unlike other reduction functions (e.g. `skew`, `kurtosis`), the default behavior of `mode` typically preserves the axis it acts along. In SciPy 1.11.0, this behavior will change: the default value of `keepdims` will become False, the `axis` over which the statistic is taken will be eliminated, and the value None will no longer be accepted. Set `keepdims` to True or False to avoid this warning.\n",
      "  mode, _ = stats.mode(_y[neigh_ind, k], axis=1)\n",
      "/opt/anaconda3/lib/python3.9/site-packages/sklearn/neighbors/_classification.py:228: FutureWarning: Unlike other reduction functions (e.g. `skew`, `kurtosis`), the default behavior of `mode` typically preserves the axis it acts along. In SciPy 1.11.0, this behavior will change: the default value of `keepdims` will become False, the `axis` over which the statistic is taken will be eliminated, and the value None will no longer be accepted. Set `keepdims` to True or False to avoid this warning.\n",
      "  mode, _ = stats.mode(_y[neigh_ind, k], axis=1)\n",
      "/opt/anaconda3/lib/python3.9/site-packages/sklearn/neighbors/_classification.py:228: FutureWarning: Unlike other reduction functions (e.g. `skew`, `kurtosis`), the default behavior of `mode` typically preserves the axis it acts along. In SciPy 1.11.0, this behavior will change: the default value of `keepdims` will become False, the `axis` over which the statistic is taken will be eliminated, and the value None will no longer be accepted. Set `keepdims` to True or False to avoid this warning.\n",
      "  mode, _ = stats.mode(_y[neigh_ind, k], axis=1)\n",
      "/opt/anaconda3/lib/python3.9/site-packages/sklearn/neighbors/_classification.py:228: FutureWarning: Unlike other reduction functions (e.g. `skew`, `kurtosis`), the default behavior of `mode` typically preserves the axis it acts along. In SciPy 1.11.0, this behavior will change: the default value of `keepdims` will become False, the `axis` over which the statistic is taken will be eliminated, and the value None will no longer be accepted. Set `keepdims` to True or False to avoid this warning.\n",
      "  mode, _ = stats.mode(_y[neigh_ind, k], axis=1)\n",
      "/opt/anaconda3/lib/python3.9/site-packages/sklearn/neighbors/_classification.py:228: FutureWarning: Unlike other reduction functions (e.g. `skew`, `kurtosis`), the default behavior of `mode` typically preserves the axis it acts along. In SciPy 1.11.0, this behavior will change: the default value of `keepdims` will become False, the `axis` over which the statistic is taken will be eliminated, and the value None will no longer be accepted. Set `keepdims` to True or False to avoid this warning.\n",
      "  mode, _ = stats.mode(_y[neigh_ind, k], axis=1)\n",
      "/opt/anaconda3/lib/python3.9/site-packages/sklearn/neighbors/_classification.py:228: FutureWarning: Unlike other reduction functions (e.g. `skew`, `kurtosis`), the default behavior of `mode` typically preserves the axis it acts along. In SciPy 1.11.0, this behavior will change: the default value of `keepdims` will become False, the `axis` over which the statistic is taken will be eliminated, and the value None will no longer be accepted. Set `keepdims` to True or False to avoid this warning.\n",
      "  mode, _ = stats.mode(_y[neigh_ind, k], axis=1)\n",
      "/opt/anaconda3/lib/python3.9/site-packages/sklearn/neighbors/_classification.py:228: FutureWarning: Unlike other reduction functions (e.g. `skew`, `kurtosis`), the default behavior of `mode` typically preserves the axis it acts along. In SciPy 1.11.0, this behavior will change: the default value of `keepdims` will become False, the `axis` over which the statistic is taken will be eliminated, and the value None will no longer be accepted. Set `keepdims` to True or False to avoid this warning.\n",
      "  mode, _ = stats.mode(_y[neigh_ind, k], axis=1)\n",
      "/opt/anaconda3/lib/python3.9/site-packages/sklearn/neighbors/_classification.py:228: FutureWarning: Unlike other reduction functions (e.g. `skew`, `kurtosis`), the default behavior of `mode` typically preserves the axis it acts along. In SciPy 1.11.0, this behavior will change: the default value of `keepdims` will become False, the `axis` over which the statistic is taken will be eliminated, and the value None will no longer be accepted. Set `keepdims` to True or False to avoid this warning.\n",
      "  mode, _ = stats.mode(_y[neigh_ind, k], axis=1)\n",
      "/opt/anaconda3/lib/python3.9/site-packages/sklearn/neighbors/_classification.py:228: FutureWarning: Unlike other reduction functions (e.g. `skew`, `kurtosis`), the default behavior of `mode` typically preserves the axis it acts along. In SciPy 1.11.0, this behavior will change: the default value of `keepdims` will become False, the `axis` over which the statistic is taken will be eliminated, and the value None will no longer be accepted. Set `keepdims` to True or False to avoid this warning.\n",
      "  mode, _ = stats.mode(_y[neigh_ind, k], axis=1)\n",
      "/opt/anaconda3/lib/python3.9/site-packages/sklearn/neighbors/_classification.py:228: FutureWarning: Unlike other reduction functions (e.g. `skew`, `kurtosis`), the default behavior of `mode` typically preserves the axis it acts along. In SciPy 1.11.0, this behavior will change: the default value of `keepdims` will become False, the `axis` over which the statistic is taken will be eliminated, and the value None will no longer be accepted. Set `keepdims` to True or False to avoid this warning.\n",
      "  mode, _ = stats.mode(_y[neigh_ind, k], axis=1)\n",
      "/opt/anaconda3/lib/python3.9/site-packages/sklearn/neighbors/_classification.py:228: FutureWarning: Unlike other reduction functions (e.g. `skew`, `kurtosis`), the default behavior of `mode` typically preserves the axis it acts along. In SciPy 1.11.0, this behavior will change: the default value of `keepdims` will become False, the `axis` over which the statistic is taken will be eliminated, and the value None will no longer be accepted. Set `keepdims` to True or False to avoid this warning.\n",
      "  mode, _ = stats.mode(_y[neigh_ind, k], axis=1)\n",
      "/opt/anaconda3/lib/python3.9/site-packages/sklearn/neighbors/_classification.py:228: FutureWarning: Unlike other reduction functions (e.g. `skew`, `kurtosis`), the default behavior of `mode` typically preserves the axis it acts along. In SciPy 1.11.0, this behavior will change: the default value of `keepdims` will become False, the `axis` over which the statistic is taken will be eliminated, and the value None will no longer be accepted. Set `keepdims` to True or False to avoid this warning.\n",
      "  mode, _ = stats.mode(_y[neigh_ind, k], axis=1)\n",
      "/opt/anaconda3/lib/python3.9/site-packages/sklearn/neighbors/_classification.py:228: FutureWarning: Unlike other reduction functions (e.g. `skew`, `kurtosis`), the default behavior of `mode` typically preserves the axis it acts along. In SciPy 1.11.0, this behavior will change: the default value of `keepdims` will become False, the `axis` over which the statistic is taken will be eliminated, and the value None will no longer be accepted. Set `keepdims` to True or False to avoid this warning.\n",
      "  mode, _ = stats.mode(_y[neigh_ind, k], axis=1)\n"
     ]
    },
    {
     "name": "stderr",
     "output_type": "stream",
     "text": [
      "/opt/anaconda3/lib/python3.9/site-packages/sklearn/neighbors/_classification.py:228: FutureWarning: Unlike other reduction functions (e.g. `skew`, `kurtosis`), the default behavior of `mode` typically preserves the axis it acts along. In SciPy 1.11.0, this behavior will change: the default value of `keepdims` will become False, the `axis` over which the statistic is taken will be eliminated, and the value None will no longer be accepted. Set `keepdims` to True or False to avoid this warning.\n",
      "  mode, _ = stats.mode(_y[neigh_ind, k], axis=1)\n",
      "/opt/anaconda3/lib/python3.9/site-packages/sklearn/neighbors/_classification.py:228: FutureWarning: Unlike other reduction functions (e.g. `skew`, `kurtosis`), the default behavior of `mode` typically preserves the axis it acts along. In SciPy 1.11.0, this behavior will change: the default value of `keepdims` will become False, the `axis` over which the statistic is taken will be eliminated, and the value None will no longer be accepted. Set `keepdims` to True or False to avoid this warning.\n",
      "  mode, _ = stats.mode(_y[neigh_ind, k], axis=1)\n",
      "/opt/anaconda3/lib/python3.9/site-packages/sklearn/neighbors/_classification.py:228: FutureWarning: Unlike other reduction functions (e.g. `skew`, `kurtosis`), the default behavior of `mode` typically preserves the axis it acts along. In SciPy 1.11.0, this behavior will change: the default value of `keepdims` will become False, the `axis` over which the statistic is taken will be eliminated, and the value None will no longer be accepted. Set `keepdims` to True or False to avoid this warning.\n",
      "  mode, _ = stats.mode(_y[neigh_ind, k], axis=1)\n",
      "/opt/anaconda3/lib/python3.9/site-packages/sklearn/neighbors/_classification.py:228: FutureWarning: Unlike other reduction functions (e.g. `skew`, `kurtosis`), the default behavior of `mode` typically preserves the axis it acts along. In SciPy 1.11.0, this behavior will change: the default value of `keepdims` will become False, the `axis` over which the statistic is taken will be eliminated, and the value None will no longer be accepted. Set `keepdims` to True or False to avoid this warning.\n",
      "  mode, _ = stats.mode(_y[neigh_ind, k], axis=1)\n",
      "/opt/anaconda3/lib/python3.9/site-packages/sklearn/neighbors/_classification.py:228: FutureWarning: Unlike other reduction functions (e.g. `skew`, `kurtosis`), the default behavior of `mode` typically preserves the axis it acts along. In SciPy 1.11.0, this behavior will change: the default value of `keepdims` will become False, the `axis` over which the statistic is taken will be eliminated, and the value None will no longer be accepted. Set `keepdims` to True or False to avoid this warning.\n",
      "  mode, _ = stats.mode(_y[neigh_ind, k], axis=1)\n",
      "/opt/anaconda3/lib/python3.9/site-packages/sklearn/neighbors/_classification.py:228: FutureWarning: Unlike other reduction functions (e.g. `skew`, `kurtosis`), the default behavior of `mode` typically preserves the axis it acts along. In SciPy 1.11.0, this behavior will change: the default value of `keepdims` will become False, the `axis` over which the statistic is taken will be eliminated, and the value None will no longer be accepted. Set `keepdims` to True or False to avoid this warning.\n",
      "  mode, _ = stats.mode(_y[neigh_ind, k], axis=1)\n",
      "/opt/anaconda3/lib/python3.9/site-packages/sklearn/neighbors/_classification.py:228: FutureWarning: Unlike other reduction functions (e.g. `skew`, `kurtosis`), the default behavior of `mode` typically preserves the axis it acts along. In SciPy 1.11.0, this behavior will change: the default value of `keepdims` will become False, the `axis` over which the statistic is taken will be eliminated, and the value None will no longer be accepted. Set `keepdims` to True or False to avoid this warning.\n",
      "  mode, _ = stats.mode(_y[neigh_ind, k], axis=1)\n",
      "/opt/anaconda3/lib/python3.9/site-packages/sklearn/neighbors/_classification.py:228: FutureWarning: Unlike other reduction functions (e.g. `skew`, `kurtosis`), the default behavior of `mode` typically preserves the axis it acts along. In SciPy 1.11.0, this behavior will change: the default value of `keepdims` will become False, the `axis` over which the statistic is taken will be eliminated, and the value None will no longer be accepted. Set `keepdims` to True or False to avoid this warning.\n",
      "  mode, _ = stats.mode(_y[neigh_ind, k], axis=1)\n",
      "/opt/anaconda3/lib/python3.9/site-packages/sklearn/neighbors/_classification.py:228: FutureWarning: Unlike other reduction functions (e.g. `skew`, `kurtosis`), the default behavior of `mode` typically preserves the axis it acts along. In SciPy 1.11.0, this behavior will change: the default value of `keepdims` will become False, the `axis` over which the statistic is taken will be eliminated, and the value None will no longer be accepted. Set `keepdims` to True or False to avoid this warning.\n",
      "  mode, _ = stats.mode(_y[neigh_ind, k], axis=1)\n",
      "/opt/anaconda3/lib/python3.9/site-packages/sklearn/neighbors/_classification.py:228: FutureWarning: Unlike other reduction functions (e.g. `skew`, `kurtosis`), the default behavior of `mode` typically preserves the axis it acts along. In SciPy 1.11.0, this behavior will change: the default value of `keepdims` will become False, the `axis` over which the statistic is taken will be eliminated, and the value None will no longer be accepted. Set `keepdims` to True or False to avoid this warning.\n",
      "  mode, _ = stats.mode(_y[neigh_ind, k], axis=1)\n",
      "/opt/anaconda3/lib/python3.9/site-packages/sklearn/neighbors/_classification.py:228: FutureWarning: Unlike other reduction functions (e.g. `skew`, `kurtosis`), the default behavior of `mode` typically preserves the axis it acts along. In SciPy 1.11.0, this behavior will change: the default value of `keepdims` will become False, the `axis` over which the statistic is taken will be eliminated, and the value None will no longer be accepted. Set `keepdims` to True or False to avoid this warning.\n",
      "  mode, _ = stats.mode(_y[neigh_ind, k], axis=1)\n",
      "/opt/anaconda3/lib/python3.9/site-packages/sklearn/neighbors/_classification.py:228: FutureWarning: Unlike other reduction functions (e.g. `skew`, `kurtosis`), the default behavior of `mode` typically preserves the axis it acts along. In SciPy 1.11.0, this behavior will change: the default value of `keepdims` will become False, the `axis` over which the statistic is taken will be eliminated, and the value None will no longer be accepted. Set `keepdims` to True or False to avoid this warning.\n",
      "  mode, _ = stats.mode(_y[neigh_ind, k], axis=1)\n",
      "/opt/anaconda3/lib/python3.9/site-packages/sklearn/neighbors/_classification.py:228: FutureWarning: Unlike other reduction functions (e.g. `skew`, `kurtosis`), the default behavior of `mode` typically preserves the axis it acts along. In SciPy 1.11.0, this behavior will change: the default value of `keepdims` will become False, the `axis` over which the statistic is taken will be eliminated, and the value None will no longer be accepted. Set `keepdims` to True or False to avoid this warning.\n",
      "  mode, _ = stats.mode(_y[neigh_ind, k], axis=1)\n",
      "/opt/anaconda3/lib/python3.9/site-packages/sklearn/neighbors/_classification.py:228: FutureWarning: Unlike other reduction functions (e.g. `skew`, `kurtosis`), the default behavior of `mode` typically preserves the axis it acts along. In SciPy 1.11.0, this behavior will change: the default value of `keepdims` will become False, the `axis` over which the statistic is taken will be eliminated, and the value None will no longer be accepted. Set `keepdims` to True or False to avoid this warning.\n",
      "  mode, _ = stats.mode(_y[neigh_ind, k], axis=1)\n",
      "/opt/anaconda3/lib/python3.9/site-packages/sklearn/neighbors/_classification.py:228: FutureWarning: Unlike other reduction functions (e.g. `skew`, `kurtosis`), the default behavior of `mode` typically preserves the axis it acts along. In SciPy 1.11.0, this behavior will change: the default value of `keepdims` will become False, the `axis` over which the statistic is taken will be eliminated, and the value None will no longer be accepted. Set `keepdims` to True or False to avoid this warning.\n",
      "  mode, _ = stats.mode(_y[neigh_ind, k], axis=1)\n",
      "/opt/anaconda3/lib/python3.9/site-packages/sklearn/neighbors/_classification.py:228: FutureWarning: Unlike other reduction functions (e.g. `skew`, `kurtosis`), the default behavior of `mode` typically preserves the axis it acts along. In SciPy 1.11.0, this behavior will change: the default value of `keepdims` will become False, the `axis` over which the statistic is taken will be eliminated, and the value None will no longer be accepted. Set `keepdims` to True or False to avoid this warning.\n",
      "  mode, _ = stats.mode(_y[neigh_ind, k], axis=1)\n",
      "/opt/anaconda3/lib/python3.9/site-packages/sklearn/neighbors/_classification.py:228: FutureWarning: Unlike other reduction functions (e.g. `skew`, `kurtosis`), the default behavior of `mode` typically preserves the axis it acts along. In SciPy 1.11.0, this behavior will change: the default value of `keepdims` will become False, the `axis` over which the statistic is taken will be eliminated, and the value None will no longer be accepted. Set `keepdims` to True or False to avoid this warning.\n",
      "  mode, _ = stats.mode(_y[neigh_ind, k], axis=1)\n",
      "/opt/anaconda3/lib/python3.9/site-packages/sklearn/neighbors/_classification.py:228: FutureWarning: Unlike other reduction functions (e.g. `skew`, `kurtosis`), the default behavior of `mode` typically preserves the axis it acts along. In SciPy 1.11.0, this behavior will change: the default value of `keepdims` will become False, the `axis` over which the statistic is taken will be eliminated, and the value None will no longer be accepted. Set `keepdims` to True or False to avoid this warning.\n",
      "  mode, _ = stats.mode(_y[neigh_ind, k], axis=1)\n"
     ]
    },
    {
     "name": "stderr",
     "output_type": "stream",
     "text": [
      "/opt/anaconda3/lib/python3.9/site-packages/sklearn/neighbors/_classification.py:228: FutureWarning: Unlike other reduction functions (e.g. `skew`, `kurtosis`), the default behavior of `mode` typically preserves the axis it acts along. In SciPy 1.11.0, this behavior will change: the default value of `keepdims` will become False, the `axis` over which the statistic is taken will be eliminated, and the value None will no longer be accepted. Set `keepdims` to True or False to avoid this warning.\n",
      "  mode, _ = stats.mode(_y[neigh_ind, k], axis=1)\n",
      "/opt/anaconda3/lib/python3.9/site-packages/sklearn/neighbors/_classification.py:228: FutureWarning: Unlike other reduction functions (e.g. `skew`, `kurtosis`), the default behavior of `mode` typically preserves the axis it acts along. In SciPy 1.11.0, this behavior will change: the default value of `keepdims` will become False, the `axis` over which the statistic is taken will be eliminated, and the value None will no longer be accepted. Set `keepdims` to True or False to avoid this warning.\n",
      "  mode, _ = stats.mode(_y[neigh_ind, k], axis=1)\n",
      "/opt/anaconda3/lib/python3.9/site-packages/sklearn/neighbors/_classification.py:228: FutureWarning: Unlike other reduction functions (e.g. `skew`, `kurtosis`), the default behavior of `mode` typically preserves the axis it acts along. In SciPy 1.11.0, this behavior will change: the default value of `keepdims` will become False, the `axis` over which the statistic is taken will be eliminated, and the value None will no longer be accepted. Set `keepdims` to True or False to avoid this warning.\n",
      "  mode, _ = stats.mode(_y[neigh_ind, k], axis=1)\n"
     ]
    }
   ],
   "source": [
    "error_rate = []\n",
    "for i in range(1,40):\n",
    "    knn = KNeighborsClassifier(n_neighbors=i, metric ='hamming',n_jobs=-1)\n",
    "    knn.fit(X_train,Y_train)\n",
    "    pred_i = knn.predict(X_test)\n",
    "    error_rate.append(np.mean(pred_i != Y_test))"
   ]
  },
  {
   "cell_type": "code",
   "execution_count": 25,
   "id": "36a8390a",
   "metadata": {},
   "outputs": [
    {
     "name": "stdout",
     "output_type": "stream",
     "text": [
      "Minimum error:- 0.24554039874081846 at K = 1\n"
     ]
    },
    {
     "data": {
      "image/png": "[encoded data removed]",
      "text/plain": [
       "<Figure size 720x432 with 1 Axes>"
      ]
     },
     "metadata": {
      "needs_background": "light"
     },
     "output_type": "display_data"
    }
   ],
   "source": [
    "plt.figure(figsize=(10,6))\n",
    "plt.plot(range(1,40),error_rate,color='blue', linestyle='dashed', marker='o',markerfacecolor='red', markersize=10)\n",
    "plt.title('Error Rate vs. K Value')\n",
    "plt.xlabel('K')\n",
    "plt.ylabel('Error Rate')\n",
    "\n",
    "print(\"Minimum error:-\",min(error_rate),\"at K =\",error_rate.index(min(error_rate)))"
   ]
  },
  {
   "cell_type": "code",
   "execution_count": 26,
   "id": "d8db1e2a",
   "metadata": {
    "scrolled": true
   },
   "outputs": [
    {
     "name": "stdout",
     "output_type": "stream",
     "text": [
      "Model results:\n",
      "Random Forest: 0.9428100157205119\n",
      "Logistic regression: 0.798272119654768\n",
      "Decision tree: 0.9302184703976224\n",
      "\n",
      "The best model is: Random Forest\n"
     ]
    }
   ],
   "source": [
    "def best_model(X, Y, models):\n",
    "    results = {}\n",
    "    for number, model in models.items():\n",
    "      if number == 'Logistic regression':\n",
    "        scaler = StandardScaler()\n",
    "        X = scaler.fit_transform(X)\n",
    "      scores = cross_val_score(model, X, Y, cv=5, scoring='accuracy')\n",
    "      results[number] = scores.mean()\n",
    "\n",
    "    best = max(results, key=results.get)\n",
    "    return best, results\n",
    "\n",
    "models = {\n",
    "    'Random Forest': RandomForestClassifier(),\n",
    "    'Logistic regression': LogisticRegression(max_iter=1000),\n",
    "    'Decision tree': DecisionTreeClassifier()\n",
    "}\n",
    "\n",
    "best, results = best_model(X_train, Y_train, models)\n",
    "\n",
    "print(\"Model results:\")\n",
    "for model, score in results.items():\n",
    "    print(f\"{model}: {score}\")\n",
    "\n",
    "print(f\"\\nThe best model is: {best}\")"
   ]
  },
  {
   "cell_type": "markdown",
   "id": "495624e6",
   "metadata": {},
   "source": [
    "# Random Forest"
   ]
  },
  {
   "cell_type": "code",
   "execution_count": 27,
   "id": "7b7a2d25",
   "metadata": {
    "scrolled": false
   },
   "outputs": [
    {
     "name": "stdout",
     "output_type": "stream",
     "text": [
      "Train set score (Accuracy) = 0.8051\n",
      "Test set score (Accuracy) = 0.6821\n",
      "              precision    recall  f1-score   support\n",
      "\n",
      "           0       0.92      0.90      0.91       353\n",
      "           1       0.85      0.76      0.80       270\n",
      "           2       0.70      0.87      0.77       299\n",
      "           3       0.00      0.00      0.00        31\n",
      "\n",
      "    accuracy                           0.82       953\n",
      "   macro avg       0.62      0.63      0.62       953\n",
      "weighted avg       0.80      0.82      0.81       953\n",
      "\n"
     ]
    },
    {
     "name": "stderr",
     "output_type": "stream",
     "text": [
      "/opt/anaconda3/lib/python3.9/site-packages/sklearn/neighbors/_classification.py:228: FutureWarning: Unlike other reduction functions (e.g. `skew`, `kurtosis`), the default behavior of `mode` typically preserves the axis it acts along. In SciPy 1.11.0, this behavior will change: the default value of `keepdims` will become False, the `axis` over which the statistic is taken will be eliminated, and the value None will no longer be accepted. Set `keepdims` to True or False to avoid this warning.\n",
      "  mode, _ = stats.mode(_y[neigh_ind, k], axis=1)\n",
      "/opt/anaconda3/lib/python3.9/site-packages/sklearn/metrics/_classification.py:1318: UndefinedMetricWarning: Precision and F-score are ill-defined and being set to 0.0 in labels with no predicted samples. Use `zero_division` parameter to control this behavior.\n",
      "  _warn_prf(average, modifier, msg_start, len(result))\n",
      "/opt/anaconda3/lib/python3.9/site-packages/sklearn/metrics/_classification.py:1318: UndefinedMetricWarning: Precision and F-score are ill-defined and being set to 0.0 in labels with no predicted samples. Use `zero_division` parameter to control this behavior.\n",
      "  _warn_prf(average, modifier, msg_start, len(result))\n",
      "/opt/anaconda3/lib/python3.9/site-packages/sklearn/metrics/_classification.py:1318: UndefinedMetricWarning: Precision and F-score are ill-defined and being set to 0.0 in labels with no predicted samples. Use `zero_division` parameter to control this behavior.\n",
      "  _warn_prf(average, modifier, msg_start, len(result))\n"
     ]
    },
    {
     "data": {
      "image/png": "[encoded data removed]",
      "text/plain": [
       "<Figure size 432x288 with 2 Axes>"
      ]
     },
     "metadata": {
      "needs_background": "light"
     },
     "output_type": "display_data"
    }
   ],
   "source": [
    "clf1 = RandomForestClassifier(max_depth=2, random_state=0)\n",
    "clf1.fit(X_train,Y_train)\n",
    "Y_pred = clf1.predict(X_test)\n",
    "print(\"Train set score (Accuracy) =\", clf1.score(X_train, Y_train).round(4))\n",
    "print(\"Test set score (Accuracy) =\", clf.score(X_test, Y_test).round(4))\n",
    "\n",
    "\n",
    "print(classification_report(Y_test, clf1.predict(X_test)))\n",
    "\n",
    "\n",
    "from sklearn.metrics import ConfusionMatrixDisplay\n",
    "ConfusionMatrixDisplay.from_predictions(Y_test, Y_pred)\n",
    "plt.show()"
   ]
  },
  {
   "cell_type": "code",
   "execution_count": 28,
   "id": "d788aa25",
   "metadata": {},
   "outputs": [
    {
     "name": "stdout",
     "output_type": "stream",
     "text": [
      "MSE: 0.36096537250786986\n",
      "Accuary: 0.817419\n",
      "Precision: 0.817419\n",
      "Recall: 0.817419\n",
      "F1 score: 0.817419\n",
      "mcc: 0.733372\n",
      "r2 score: 0.556663\n"
     ]
    }
   ],
   "source": [
    "Y_pred = np.round(Y_pred).astype(int) \n",
    "print('MSE:', mean_squared_error(Y_test,Y_pred))\n",
    "knn_accuary = accuracy_score(Y_test,Y_pred)\n",
    "print(\"Accuary: %f\" % knn_accuary)\n",
    "precision = precision_score(Y_test,Y_pred, average = 'micro')\n",
    "print('Precision: %f' % precision)  \n",
    "recall = recall_score(Y_test,Y_pred, average = 'micro')\n",
    "print('Recall: %f' % recall)\n",
    "f1 = f1_score(Y_test,Y_pred, average = 'micro')\n",
    "print('F1 score: %f' % f1)\n",
    "mcc = matthews_corrcoef(Y_test,Y_pred)\n",
    "print('mcc: %f' % mcc)\n",
    "r2 = r2_score(Y_test,Y_pred)\n",
    "print('r2 score: %f' % r2)"
   ]
  },
  {
   "cell_type": "code",
   "execution_count": 34,
   "id": "fd5bade5",
   "metadata": {},
   "outputs": [
    {
     "name": "stdout",
     "output_type": "stream",
     "text": [
      "Model Accuracy: 0.9485834207764953\n"
     ]
    }
   ],
   "source": [
    "X_train, X_test, Y_train, Y_test = train_test_split(X, Y, test_size=0.2, random_state=42)\n",
    "\n",
    "rf_classifier = RandomForestClassifier(n_estimators=100, random_state=42)\n",
    "rf_classifier.fit(X_train, Y_train)\n",
    "\n",
    "y_pred = rf_classifier.predict(X_test)\n",
    " \n",
    "accuracy = accuracy_score(Y_test, y_pred)\n",
    "print(f\"Model Accuracy: {accuracy}\")"
   ]
  },
  {
   "cell_type": "markdown",
   "id": "11135849",
   "metadata": {},
   "source": [
    "# Bagging Classifier"
   ]
  },
  {
   "cell_type": "code",
   "execution_count": 30,
   "id": "002b9cef",
   "metadata": {},
   "outputs": [],
   "source": [
    "from sklearn.ensemble import BaggingClassifier\n",
    "clf2 = BaggingClassifier().fit(X_train,Y_train)"
   ]
  },
  {
   "cell_type": "code",
   "execution_count": 31,
   "id": "e71bb7a2",
   "metadata": {},
   "outputs": [],
   "source": [
    "Y_pred2 = clf2.predict(X_test)"
   ]
  },
  {
   "cell_type": "code",
   "execution_count": 32,
   "id": "ae8647ab",
   "metadata": {},
   "outputs": [
    {
     "name": "stdout",
     "output_type": "stream",
     "text": [
      "[[325   2   5   0]\n",
      " [  1 291  17   6]\n",
      " [  4   7 271   0]\n",
      " [  0   2   1  21]]\n",
      "              precision    recall  f1-score   support\n",
      "\n",
      "           0       0.98      0.98      0.98       332\n",
      "           1       0.96      0.92      0.94       315\n",
      "           2       0.92      0.96      0.94       282\n",
      "           3       0.78      0.88      0.82        24\n",
      "\n",
      "    accuracy                           0.95       953\n",
      "   macro avg       0.91      0.93      0.92       953\n",
      "weighted avg       0.95      0.95      0.95       953\n",
      "\n"
     ]
    },
    {
     "name": "stderr",
     "output_type": "stream",
     "text": [
      "/opt/anaconda3/lib/python3.9/site-packages/sklearn/utils/deprecation.py:87: FutureWarning: Function plot_confusion_matrix is deprecated; Function `plot_confusion_matrix` is deprecated in 1.0 and will be removed in 1.2. Use one of the class methods: ConfusionMatrixDisplay.from_predictions or ConfusionMatrixDisplay.from_estimator.\n",
      "  warnings.warn(msg, category=FutureWarning)\n"
     ]
    },
    {
     "data": {
      "image/png": "[encoded data removed]",
      "text/plain": [
       "<Figure size 432x288 with 2 Axes>"
      ]
     },
     "metadata": {
      "needs_background": "light"
     },
     "output_type": "display_data"
    }
   ],
   "source": [
    "from sklearn.metrics import plot_confusion_matrix\n",
    "Y_pred2 = clf2.predict(X_test)\n",
    "print (confusion_matrix(Y_test, Y_pred2))\n",
    "print (classification_report (Y_test, Y_pred2))\n",
    "plot_confusion_matrix(clf2, X_test, Y_test);"
   ]
  },
  {
   "cell_type": "code",
   "execution_count": 33,
   "id": "013ba94d",
   "metadata": {},
   "outputs": [
    {
     "name": "stdout",
     "output_type": "stream",
     "text": [
      "MSE: 0.10073452256033578\n",
      "Accuary: 0.952781\n",
      "Precision: 0.952781\n",
      "Recall: 0.952781\n",
      "F1 score: 0.952781\n",
      "mcc: 0.931073\n",
      "r2 score: 0.864788\n"
     ]
    }
   ],
   "source": [
    "Y_pred2 = np.round(Y_pred2).astype(int) \n",
    "print('MSE:', mean_squared_error(Y_test,Y_pred2))\n",
    "knn_accuary = accuracy_score(Y_test,Y_pred2)\n",
    "print(\"Accuary: %f\" % knn_accuary)\n",
    "precision = precision_score(Y_test,Y_pred2, average = 'micro')\n",
    "print('Precision: %f' % precision)  \n",
    "recall = recall_score(Y_test,Y_pred2, average = 'micro')\n",
    "print('Recall: %f' % recall)\n",
    "f1 = f1_score(Y_test,Y_pred2, average = 'micro')\n",
    "print('F1 score: %f' % f1)\n",
    "mcc = matthews_corrcoef(Y_test,Y_pred2)\n",
    "print('mcc: %f' % mcc)\n",
    "r2 = r2_score(Y_test,Y_pred2)\n",
    "print('r2 score: %f' % r2)"
   ]
  },
  {
   "cell_type": "code",
   "execution_count": null,
   "id": "5a263008",
   "metadata": {},
   "outputs": [],
   "source": []
  }
 ],
 "metadata": {
  "kernelspec": {
   "display_name": "Python 3",
   "language": "python",
   "name": "python3"
  },
  "language_info": {
   "codemirror_mode": {
    "name": "ipython",
    "version": 3
   },
   "file_extension": ".py",
   "mimetype": "text/x-python",
   "name": "python",
   "nbconvert_exporter": "python",
   "pygments_lexer": "ipython3",
   "version": "3.9.13"
  }
 },
 "nbformat": 4,
 "nbformat_minor": 5
}
